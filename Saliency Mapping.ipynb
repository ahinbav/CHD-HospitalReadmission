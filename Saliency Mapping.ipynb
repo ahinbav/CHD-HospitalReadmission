{
 "cells": [
  {
   "cell_type": "code",
   "execution_count": 8,
   "metadata": {
    "scrolled": true
   },
   "outputs": [
    {
     "name": "stdout",
     "output_type": "stream",
     "text": [
      "Requirement already satisfied: saliency[tf1] in /opt/anaconda3/envs/ML-Bootcamp/lib/python3.7/site-packages (0.1.3)\n",
      "Requirement already satisfied: tensorflow_hub in /opt/anaconda3/envs/ML-Bootcamp/lib/python3.7/site-packages (0.12.0)\n",
      "Requirement already satisfied: numpy in /opt/anaconda3/envs/ML-Bootcamp/lib/python3.7/site-packages (from saliency[tf1]) (1.19.4)\n",
      "Requirement already satisfied: scikit-image in /opt/anaconda3/envs/ML-Bootcamp/lib/python3.7/site-packages (from saliency[tf1]) (0.19.2)\n",
      "Requirement already satisfied: tensorflow>=1.15 in /opt/anaconda3/envs/ML-Bootcamp/lib/python3.7/site-packages (from saliency[tf1]) (2.4.1)\n",
      "Requirement already satisfied: absl-py~=0.10 in /opt/anaconda3/envs/ML-Bootcamp/lib/python3.7/site-packages (from tensorflow>=1.15->saliency[tf1]) (0.11.0)\n",
      "Requirement already satisfied: gast==0.3.3 in /opt/anaconda3/envs/ML-Bootcamp/lib/python3.7/site-packages (from tensorflow>=1.15->saliency[tf1]) (0.3.3)\n",
      "Requirement already satisfied: h5py~=2.10.0 in /opt/anaconda3/envs/ML-Bootcamp/lib/python3.7/site-packages (from tensorflow>=1.15->saliency[tf1]) (2.10.0)\n",
      "Requirement already satisfied: six~=1.15.0 in /opt/anaconda3/envs/ML-Bootcamp/lib/python3.7/site-packages (from tensorflow>=1.15->saliency[tf1]) (1.15.0)\n",
      "Requirement already satisfied: astunparse~=1.6.3 in /opt/anaconda3/envs/ML-Bootcamp/lib/python3.7/site-packages (from tensorflow>=1.15->saliency[tf1]) (1.6.3)\n",
      "Requirement already satisfied: google-pasta~=0.2 in /opt/anaconda3/envs/ML-Bootcamp/lib/python3.7/site-packages (from tensorflow>=1.15->saliency[tf1]) (0.2.0)\n",
      "Requirement already satisfied: keras-preprocessing~=1.1.2 in /opt/anaconda3/envs/ML-Bootcamp/lib/python3.7/site-packages (from tensorflow>=1.15->saliency[tf1]) (1.1.2)\n",
      "Requirement already satisfied: wrapt~=1.12.1 in /opt/anaconda3/envs/ML-Bootcamp/lib/python3.7/site-packages (from tensorflow>=1.15->saliency[tf1]) (1.12.1)\n",
      "Requirement already satisfied: typing-extensions~=3.7.4 in /opt/anaconda3/envs/ML-Bootcamp/lib/python3.7/site-packages (from tensorflow>=1.15->saliency[tf1]) (3.7.4.3)\n",
      "Requirement already satisfied: termcolor~=1.1.0 in /opt/anaconda3/envs/ML-Bootcamp/lib/python3.7/site-packages (from tensorflow>=1.15->saliency[tf1]) (1.1.0)\n",
      "Requirement already satisfied: tensorflow-estimator<2.5.0,>=2.4.0 in /opt/anaconda3/envs/ML-Bootcamp/lib/python3.7/site-packages (from tensorflow>=1.15->saliency[tf1]) (2.4.0)\n",
      "Requirement already satisfied: protobuf>=3.9.2 in /opt/anaconda3/envs/ML-Bootcamp/lib/python3.7/site-packages (from tensorflow>=1.15->saliency[tf1]) (3.14.0)\n",
      "Requirement already satisfied: tensorboard~=2.4 in /opt/anaconda3/envs/ML-Bootcamp/lib/python3.7/site-packages (from tensorflow>=1.15->saliency[tf1]) (2.4.1)\n",
      "Requirement already satisfied: opt-einsum~=3.3.0 in /opt/anaconda3/envs/ML-Bootcamp/lib/python3.7/site-packages (from tensorflow>=1.15->saliency[tf1]) (3.3.0)\n",
      "Requirement already satisfied: flatbuffers~=1.12.0 in /opt/anaconda3/envs/ML-Bootcamp/lib/python3.7/site-packages (from tensorflow>=1.15->saliency[tf1]) (1.12)\n",
      "Requirement already satisfied: grpcio~=1.32.0 in /opt/anaconda3/envs/ML-Bootcamp/lib/python3.7/site-packages (from tensorflow>=1.15->saliency[tf1]) (1.32.0)\n",
      "Requirement already satisfied: wheel~=0.35 in /opt/anaconda3/envs/ML-Bootcamp/lib/python3.7/site-packages (from tensorflow>=1.15->saliency[tf1]) (0.36.2)\n",
      "Requirement already satisfied: google-auth<2,>=1.6.3 in /opt/anaconda3/envs/ML-Bootcamp/lib/python3.7/site-packages (from tensorboard~=2.4->tensorflow>=1.15->saliency[tf1]) (1.24.0)\n",
      "Requirement already satisfied: setuptools>=41.0.0 in /opt/anaconda3/envs/ML-Bootcamp/lib/python3.7/site-packages (from tensorboard~=2.4->tensorflow>=1.15->saliency[tf1]) (51.0.0.post20201207)\n",
      "Requirement already satisfied: markdown>=2.6.8 in /opt/anaconda3/envs/ML-Bootcamp/lib/python3.7/site-packages (from tensorboard~=2.4->tensorflow>=1.15->saliency[tf1]) (3.3.3)\n",
      "Requirement already satisfied: tensorboard-plugin-wit>=1.6.0 in /opt/anaconda3/envs/ML-Bootcamp/lib/python3.7/site-packages (from tensorboard~=2.4->tensorflow>=1.15->saliency[tf1]) (1.8.0)\n",
      "Requirement already satisfied: requests<3,>=2.21.0 in /opt/anaconda3/envs/ML-Bootcamp/lib/python3.7/site-packages (from tensorboard~=2.4->tensorflow>=1.15->saliency[tf1]) (2.25.1)\n",
      "Requirement already satisfied: google-auth-oauthlib<0.5,>=0.4.1 in /opt/anaconda3/envs/ML-Bootcamp/lib/python3.7/site-packages (from tensorboard~=2.4->tensorflow>=1.15->saliency[tf1]) (0.4.2)\n",
      "Requirement already satisfied: werkzeug>=0.11.15 in /opt/anaconda3/envs/ML-Bootcamp/lib/python3.7/site-packages (from tensorboard~=2.4->tensorflow>=1.15->saliency[tf1]) (1.0.1)\n",
      "Requirement already satisfied: cachetools<5.0,>=2.0.0 in /opt/anaconda3/envs/ML-Bootcamp/lib/python3.7/site-packages (from google-auth<2,>=1.6.3->tensorboard~=2.4->tensorflow>=1.15->saliency[tf1]) (4.2.1)\n",
      "Requirement already satisfied: pyasn1-modules>=0.2.1 in /opt/anaconda3/envs/ML-Bootcamp/lib/python3.7/site-packages (from google-auth<2,>=1.6.3->tensorboard~=2.4->tensorflow>=1.15->saliency[tf1]) (0.2.8)\n",
      "Requirement already satisfied: rsa<5,>=3.1.4 in /opt/anaconda3/envs/ML-Bootcamp/lib/python3.7/site-packages (from google-auth<2,>=1.6.3->tensorboard~=2.4->tensorflow>=1.15->saliency[tf1]) (4.7)\n",
      "Requirement already satisfied: requests-oauthlib>=0.7.0 in /opt/anaconda3/envs/ML-Bootcamp/lib/python3.7/site-packages (from google-auth-oauthlib<0.5,>=0.4.1->tensorboard~=2.4->tensorflow>=1.15->saliency[tf1]) (1.3.0)\n",
      "Requirement already satisfied: importlib-metadata in /opt/anaconda3/envs/ML-Bootcamp/lib/python3.7/site-packages (from markdown>=2.6.8->tensorboard~=2.4->tensorflow>=1.15->saliency[tf1]) (3.3.0)\n",
      "Requirement already satisfied: pyasn1<0.5.0,>=0.4.6 in /opt/anaconda3/envs/ML-Bootcamp/lib/python3.7/site-packages (from pyasn1-modules>=0.2.1->google-auth<2,>=1.6.3->tensorboard~=2.4->tensorflow>=1.15->saliency[tf1]) (0.4.8)\n",
      "Requirement already satisfied: certifi>=2017.4.17 in /opt/anaconda3/envs/ML-Bootcamp/lib/python3.7/site-packages (from requests<3,>=2.21.0->tensorboard~=2.4->tensorflow>=1.15->saliency[tf1]) (2020.12.5)\n",
      "Requirement already satisfied: chardet<5,>=3.0.2 in /opt/anaconda3/envs/ML-Bootcamp/lib/python3.7/site-packages (from requests<3,>=2.21.0->tensorboard~=2.4->tensorflow>=1.15->saliency[tf1]) (4.0.0)\n",
      "Requirement already satisfied: idna<3,>=2.5 in /opt/anaconda3/envs/ML-Bootcamp/lib/python3.7/site-packages (from requests<3,>=2.21.0->tensorboard~=2.4->tensorflow>=1.15->saliency[tf1]) (2.10)\n",
      "Requirement already satisfied: urllib3<1.27,>=1.21.1 in /opt/anaconda3/envs/ML-Bootcamp/lib/python3.7/site-packages (from requests<3,>=2.21.0->tensorboard~=2.4->tensorflow>=1.15->saliency[tf1]) (1.26.2)\n",
      "Requirement already satisfied: oauthlib>=3.0.0 in /opt/anaconda3/envs/ML-Bootcamp/lib/python3.7/site-packages (from requests-oauthlib>=0.7.0->google-auth-oauthlib<0.5,>=0.4.1->tensorboard~=2.4->tensorflow>=1.15->saliency[tf1]) (3.1.0)\n",
      "Requirement already satisfied: zipp>=0.5 in /opt/anaconda3/envs/ML-Bootcamp/lib/python3.7/site-packages (from importlib-metadata->markdown>=2.6.8->tensorboard~=2.4->tensorflow>=1.15->saliency[tf1]) (3.4.0)\n",
      "Requirement already satisfied: pillow!=7.1.0,!=7.1.1,!=8.3.0,>=6.1.0 in /opt/anaconda3/envs/ML-Bootcamp/lib/python3.7/site-packages (from scikit-image->saliency[tf1]) (9.0.1)\n",
      "Requirement already satisfied: scipy>=1.4.1 in /opt/anaconda3/envs/ML-Bootcamp/lib/python3.7/site-packages (from scikit-image->saliency[tf1]) (1.6.0)\n",
      "Requirement already satisfied: networkx>=2.2 in /opt/anaconda3/envs/ML-Bootcamp/lib/python3.7/site-packages (from scikit-image->saliency[tf1]) (2.6.3)\n",
      "Requirement already satisfied: packaging>=20.0 in /opt/anaconda3/envs/ML-Bootcamp/lib/python3.7/site-packages (from scikit-image->saliency[tf1]) (20.8)\n",
      "Requirement already satisfied: PyWavelets>=1.1.1 in /opt/anaconda3/envs/ML-Bootcamp/lib/python3.7/site-packages (from scikit-image->saliency[tf1]) (1.2.0)\n",
      "Requirement already satisfied: tifffile>=2019.7.26 in /opt/anaconda3/envs/ML-Bootcamp/lib/python3.7/site-packages (from scikit-image->saliency[tf1]) (2021.11.2)\n",
      "Requirement already satisfied: imageio>=2.4.1 in /opt/anaconda3/envs/ML-Bootcamp/lib/python3.7/site-packages (from scikit-image->saliency[tf1]) (2.15.0)\n",
      "Requirement already satisfied: pyparsing>=2.0.2 in /opt/anaconda3/envs/ML-Bootcamp/lib/python3.7/site-packages (from packaging>=20.0->scikit-image->saliency[tf1]) (2.4.7)\n",
      "Note: you may need to restart the kernel to use updated packages.\n"
     ]
    }
   ],
   "source": [
    "pip install saliency[tf1] tensorflow_hub"
   ]
  },
  {
   "cell_type": "code",
   "execution_count": 9,
   "metadata": {},
   "outputs": [],
   "source": [
    "# Boilerplate imports.\n",
    "import tensorflow.compat.v1 as tf\n",
    "import numpy as np\n",
    "import PIL.Image\n",
    "from matplotlib import pylab as P\n",
    "\n",
    "# From our repository.\n",
    "import saliency.tf1 as saliency\n",
    "\n",
    "%matplotlib inline"
   ]
  },
  {
   "cell_type": "code",
   "execution_count": 10,
   "metadata": {},
   "outputs": [],
   "source": [
    "# Boilerplate methods.\n",
    "def ShowImage(im, title='', ax=None):\n",
    "  if ax is None:\n",
    "    P.figure()\n",
    "  P.axis('off')\n",
    "  im = (im * 255).astype(np.uint8)\n",
    "  P.imshow(im)\n",
    "  P.title(title)\n",
    "\n",
    "def ShowGrayscaleImage(im, title='', ax=None):\n",
    "  if ax is None:\n",
    "    P.figure()\n",
    "  P.axis('off')\n",
    "\n",
    "  P.imshow(im, cmap=P.cm.gray, vmin=0, vmax=1)\n",
    "  P.title(title)\n",
    "\n",
    "def ShowHeatMap(im, title, ax=None):\n",
    "  if ax is None:\n",
    "    P.figure()\n",
    "  P.axis('off')\n",
    "  P.imshow(im, cmap='inferno')\n",
    "  P.title(title)\n",
    "\n",
    "def LoadImage(file_path):\n",
    "  im = PIL.Image.open(file_path)\n",
    "  im = np.asarray(im)\n",
    "  return im / 255"
   ]
  },
  {
   "cell_type": "code",
   "execution_count": 11,
   "metadata": {
    "scrolled": true
   },
   "outputs": [
    {
     "name": "stdout",
     "output_type": "stream",
     "text": [
      "Requirement already satisfied: tensorflow-hub in /opt/anaconda3/envs/ML-Bootcamp/lib/python3.7/site-packages (0.12.0)\n",
      "Requirement already satisfied: protobuf>=3.8.0 in /opt/anaconda3/envs/ML-Bootcamp/lib/python3.7/site-packages (from tensorflow-hub) (3.14.0)\n",
      "Requirement already satisfied: numpy>=1.12.0 in /opt/anaconda3/envs/ML-Bootcamp/lib/python3.7/site-packages (from tensorflow-hub) (1.19.4)\n",
      "Requirement already satisfied: six>=1.9 in /opt/anaconda3/envs/ML-Bootcamp/lib/python3.7/site-packages (from protobuf>=3.8.0->tensorflow-hub) (1.15.0)\n",
      "Note: you may need to restart the kernel to use updated packages.\n"
     ]
    }
   ],
   "source": [
    "pip install tensorflow-hub"
   ]
  },
  {
   "cell_type": "code",
   "execution_count": 12,
   "metadata": {},
   "outputs": [],
   "source": [
    "import tensorflow_hub as hub\n",
    "\n",
    "model_path = \"https://tfhub.dev/google/imagenet/inception_v3/classification/3\"\n",
    "graph = tf.Graph()\n",
    "sess = tf.Session(graph=graph)\n",
    "with graph.as_default():\n",
    "  hub.Module(model_path)\n",
    "  sess.run(tf.global_variables_initializer())\n",
    "  sess.run(tf.tables_initializer())"
   ]
  },
  {
   "cell_type": "code",
   "execution_count": 13,
   "metadata": {},
   "outputs": [],
   "source": [
    "with graph.as_default():\n",
    "  images = graph.get_tensor_by_name('module/hub_input/images:0')\n",
    "  logits = graph.get_tensor_by_name('module/InceptionV3/Logits/SpatialSqueeze:0')\n",
    "  # Construct the scalar neuron tensor.\n",
    "  neuron_selector = tf.placeholder(tf.int32)\n",
    "  y = logits[:,neuron_selector]\n",
    "\n",
    "  # Construct tensor for predictions.\n",
    "  prediction = tf.argmax(logits, 1)"
   ]
  },
  {
   "cell_type": "code",
   "execution_count": 14,
   "metadata": {},
   "outputs": [
    {
     "name": "stdout",
     "output_type": "stream",
     "text": [
      "Prediction class: 0\n"
     ]
    },
    {
     "data": {
      "image/png": "[encoded data removed]",
      "text/plain": [
       "<Figure size 432x288 with 1 Axes>"
      ]
     },
     "metadata": {
      "needs_background": "light"
     },
     "output_type": "display_data"
    }
   ],
   "source": [
    "# Load the image\n",
    "im = LoadImage('./CAP_SCD0000101_MR__hrt_raw_20120813120600996_14.dcm.png')\n",
    "\n",
    "# Show the image\n",
    "ShowImage(im)\n",
    "\n",
    "# Make a prediction. \n",
    "prediction_class = sess.run(prediction, feed_dict = {images: [im]})[0]\n",
    "\n",
    "print(\"Prediction class: \" + str(prediction_class))  # Should be a doberman, class idx = 237"
   ]
  },
  {
   "cell_type": "code",
   "execution_count": null,
   "metadata": {},
   "outputs": [],
   "source": [
    "# Construct the saliency object. This doesn't yet compute the saliency mask, it just sets up the necessary ops.\n",
    "gradient_saliency = saliency.GradientSaliency(graph, sess, y, images)\n",
    "\n",
    "# Compute the vanilla mask and the smoothed mask.\n",
    "vanilla_mask_3d = gradient_saliency.GetMask(im, feed_dict = {neuron_selector: prediction_class})\n",
    "smoothgrad_mask_3d = gradient_saliency.GetSmoothedMask(im, feed_dict = {neuron_selector: prediction_class})\n",
    "\n",
    "# Call the visualization methods to convert the 3D tensors to 2D grayscale.\n",
    "vanilla_mask_grayscale = saliency.VisualizeImageGrayscale(vanilla_mask_3d)\n",
    "smoothgrad_mask_grayscale = saliency.VisualizeImageGrayscale(smoothgrad_mask_3d)\n",
    "\n",
    "# Set up matplot lib figures.\n",
    "ROWS = 1\n",
    "COLS = 2\n",
    "UPSCALE_FACTOR = 10\n",
    "P.figure(figsize=(ROWS * UPSCALE_FACTOR, COLS * UPSCALE_FACTOR))\n",
    "\n",
    "# Render the saliency masks.\n",
    "ShowGrayscaleImage(vanilla_mask_grayscale, title='Vanilla Gradient', ax=P.subplot(ROWS, COLS, 1))\n",
    "ShowGrayscaleImage(smoothgrad_mask_grayscale, title='SmoothGrad', ax=P.subplot(ROWS, COLS, 2))"
   ]
  },
  {
   "cell_type": "code",
   "execution_count": 1,
   "metadata": {},
   "outputs": [
    {
     "ename": "NameError",
     "evalue": "name 'saliency' is not defined",
     "output_type": "error",
     "traceback": [
      "\u001b[0;31m---------------------------------------------------------------------------\u001b[0m",
      "\u001b[0;31mNameError\u001b[0m                                 Traceback (most recent call last)",
      "\u001b[0;32m<ipython-input-1-323c01380878>\u001b[0m in \u001b[0;36m<module>\u001b[0;34m\u001b[0m\n\u001b[1;32m      2\u001b[0m \u001b[0;31m# NOTE: GuidedBackprop creates a copy of the given graph to override the gradient.\u001b[0m\u001b[0;34m\u001b[0m\u001b[0;34m\u001b[0m\u001b[0;34m\u001b[0m\u001b[0m\n\u001b[1;32m      3\u001b[0m \u001b[0;31m# Don't construct too many of these!\u001b[0m\u001b[0;34m\u001b[0m\u001b[0;34m\u001b[0m\u001b[0;34m\u001b[0m\u001b[0m\n\u001b[0;32m----> 4\u001b[0;31m \u001b[0mguided_backprop\u001b[0m \u001b[0;34m=\u001b[0m \u001b[0msaliency\u001b[0m\u001b[0;34m.\u001b[0m\u001b[0mGuidedBackprop\u001b[0m\u001b[0;34m(\u001b[0m\u001b[0mgraph\u001b[0m\u001b[0;34m,\u001b[0m \u001b[0msess\u001b[0m\u001b[0;34m,\u001b[0m \u001b[0my\u001b[0m\u001b[0;34m,\u001b[0m \u001b[0mimages\u001b[0m\u001b[0;34m)\u001b[0m\u001b[0;34m\u001b[0m\u001b[0;34m\u001b[0m\u001b[0m\n\u001b[0m\u001b[1;32m      5\u001b[0m \u001b[0;34m\u001b[0m\u001b[0m\n\u001b[1;32m      6\u001b[0m \u001b[0;31m# Compute the vanilla mask and the smoothed mask.\u001b[0m\u001b[0;34m\u001b[0m\u001b[0;34m\u001b[0m\u001b[0;34m\u001b[0m\u001b[0m\n",
      "\u001b[0;31mNameError\u001b[0m: name 'saliency' is not defined"
     ]
    }
   ],
   "source": [
    "# Construct the saliency object. This doesn't yet compute the saliency mask, it just sets up the necessary ops.\n",
    "# NOTE: GuidedBackprop creates a copy of the given graph to override the gradient.\n",
    "# Don't construct too many of these!\n",
    "guided_backprop = saliency.GuidedBackprop(graph, sess, y, images)\n",
    "\n",
    "# Compute the vanilla mask and the smoothed mask.\n",
    "vanilla_guided_backprop_mask_3d = guided_backprop.GetMask(\n",
    "  im, feed_dict = {neuron_selector: prediction_class})\n",
    "smoothgrad_guided_backprop_mask_3d = guided_backprop.GetSmoothedMask(\n",
    "  im, feed_dict = {neuron_selector: prediction_class})\n",
    "\n",
    "# Call the visualization methods to convert the 3D tensors to 2D grayscale.\n",
    "vanilla_mask_grayscale = saliency.VisualizeImageGrayscale(vanilla_guided_backprop_mask_3d)\n",
    "smoothgrad_mask_grayscale = saliency.VisualizeImageGrayscale(smoothgrad_guided_backprop_mask_3d)\n",
    "\n",
    "# Set up matplot lib figures.\n",
    "ROWS = 1\n",
    "COLS = 2\n",
    "UPSCALE_FACTOR = 10\n",
    "P.figure(figsize=(ROWS * UPSCALE_FACTOR, COLS * UPSCALE_FACTOR))\n",
    "\n",
    "# Render the saliency masks.\n",
    "ShowGrayscaleImage(vanilla_mask_grayscale, title='Vanilla Guided Backprop', ax=P.subplot(ROWS, COLS, 1))\n",
    "ShowGrayscaleImage(smoothgrad_mask_grayscale, title='SmoothGrad Guided Backprop', ax=P.subplot(ROWS, COLS, 2))"
   ]
  },
  {
   "cell_type": "code",
   "execution_count": 1,
   "metadata": {},
   "outputs": [
    {
     "ename": "NameError",
     "evalue": "name 'saliency' is not defined",
     "output_type": "error",
     "traceback": [
      "\u001b[0;31m---------------------------------------------------------------------------\u001b[0m",
      "\u001b[0;31mNameError\u001b[0m                                 Traceback (most recent call last)",
      "\u001b[0;32m<ipython-input-1-1ac0a1fe7665>\u001b[0m in \u001b[0;36m<module>\u001b[0;34m\u001b[0m\n\u001b[1;32m      1\u001b[0m \u001b[0;31m# Construct the saliency object. This doesn't yet compute the saliency mask, it just sets up the necessary ops.\u001b[0m\u001b[0;34m\u001b[0m\u001b[0;34m\u001b[0m\u001b[0;34m\u001b[0m\u001b[0m\n\u001b[0;32m----> 2\u001b[0;31m \u001b[0mintegrated_gradients\u001b[0m \u001b[0;34m=\u001b[0m \u001b[0msaliency\u001b[0m\u001b[0;34m.\u001b[0m\u001b[0mIntegratedGradients\u001b[0m\u001b[0;34m(\u001b[0m\u001b[0mgraph\u001b[0m\u001b[0;34m,\u001b[0m \u001b[0msess\u001b[0m\u001b[0;34m,\u001b[0m \u001b[0my\u001b[0m\u001b[0;34m,\u001b[0m \u001b[0mimages\u001b[0m\u001b[0;34m)\u001b[0m\u001b[0;34m\u001b[0m\u001b[0;34m\u001b[0m\u001b[0m\n\u001b[0m\u001b[1;32m      3\u001b[0m \u001b[0;34m\u001b[0m\u001b[0m\n\u001b[1;32m      4\u001b[0m \u001b[0;31m# Baseline is a black image.\u001b[0m\u001b[0;34m\u001b[0m\u001b[0;34m\u001b[0m\u001b[0;34m\u001b[0m\u001b[0m\n\u001b[1;32m      5\u001b[0m \u001b[0mbaseline\u001b[0m \u001b[0;34m=\u001b[0m \u001b[0mnp\u001b[0m\u001b[0;34m.\u001b[0m\u001b[0mzeros\u001b[0m\u001b[0;34m(\u001b[0m\u001b[0mim\u001b[0m\u001b[0;34m.\u001b[0m\u001b[0mshape\u001b[0m\u001b[0;34m)\u001b[0m\u001b[0;34m\u001b[0m\u001b[0;34m\u001b[0m\u001b[0m\n",
      "\u001b[0;31mNameError\u001b[0m: name 'saliency' is not defined"
     ]
    }
   ],
   "source": [
    "# Construct the saliency object. This doesn't yet compute the saliency mask, it just sets up the necessary ops.\n",
    "integrated_gradients = saliency.IntegratedGradients(graph, sess, y, images)\n",
    "\n",
    "# Baseline is a black image.\n",
    "baseline = np.zeros(im.shape)\n",
    "\n",
    "# Compute the vanilla mask and the smoothed mask.\n",
    "vanilla_integrated_gradients_mask_3d = integrated_gradients.GetMask(\n",
    "  im, feed_dict = {neuron_selector: prediction_class}, x_steps=25, x_baseline=baseline, batch_size=20)\n",
    "# Smoothed mask for integrated gradients will take a while since we are doing nsamples * nsamples computations.\n",
    "smoothgrad_integrated_gradients_mask_3d = integrated_gradients.GetSmoothedMask(\n",
    "  im, feed_dict = {neuron_selector: prediction_class}, x_steps=25, x_baseline=baseline, batch_size=20)\n",
    "\n",
    "# Call the visualization methods to convert the 3D tensors to 2D grayscale.\n",
    "vanilla_mask_grayscale = saliency.VisualizeImageGrayscale(vanilla_integrated_gradients_mask_3d)\n",
    "smoothgrad_mask_grayscale = saliency.VisualizeImageGrayscale(smoothgrad_integrated_gradients_mask_3d)\n",
    "\n",
    "# Set up matplot lib figures.\n",
    "ROWS = 1\n",
    "COLS = 2\n",
    "UPSCALE_FACTOR = 10\n",
    "P.figure(figsize=(ROWS * UPSCALE_FACTOR, COLS * UPSCALE_FACTOR))\n",
    "\n",
    "# Render the saliency masks.\n",
    "ShowGrayscaleImage(vanilla_mask_grayscale, title='Vanilla Integrated Gradients', ax=P.subplot(ROWS, COLS, 1))\n",
    "ShowGrayscaleImage(smoothgrad_mask_grayscale, title='Smoothgrad Integrated Gradients', ax=P.subplot(ROWS, COLS, 2))"
   ]
  },
  {
   "cell_type": "code",
   "execution_count": 2,
   "metadata": {},
   "outputs": [
    {
     "ename": "NameError",
     "evalue": "name 'saliency' is not defined",
     "output_type": "error",
     "traceback": [
      "\u001b[0;31m---------------------------------------------------------------------------\u001b[0m",
      "\u001b[0;31mNameError\u001b[0m                                 Traceback (most recent call last)",
      "\u001b[0;32m<ipython-input-2-82dfb03b060d>\u001b[0m in \u001b[0;36m<module>\u001b[0;34m\u001b[0m\n\u001b[1;32m      1\u001b[0m \u001b[0;31m# Construct the saliency object. This doesn't yet compute the saliency mask, it just sets up the necessary ops.\u001b[0m\u001b[0;34m\u001b[0m\u001b[0;34m\u001b[0m\u001b[0;34m\u001b[0m\u001b[0m\n\u001b[0;32m----> 2\u001b[0;31m \u001b[0mxrai_object\u001b[0m \u001b[0;34m=\u001b[0m \u001b[0msaliency\u001b[0m\u001b[0;34m.\u001b[0m\u001b[0mXRAI\u001b[0m\u001b[0;34m(\u001b[0m\u001b[0mgraph\u001b[0m\u001b[0;34m,\u001b[0m \u001b[0msess\u001b[0m\u001b[0;34m,\u001b[0m \u001b[0my\u001b[0m\u001b[0;34m,\u001b[0m \u001b[0mimages\u001b[0m\u001b[0;34m)\u001b[0m\u001b[0;34m\u001b[0m\u001b[0;34m\u001b[0m\u001b[0m\n\u001b[0m\u001b[1;32m      3\u001b[0m \u001b[0;34m\u001b[0m\u001b[0m\n\u001b[1;32m      4\u001b[0m \u001b[0;31m# Compute XRAI attributions with default parameters\u001b[0m\u001b[0;34m\u001b[0m\u001b[0;34m\u001b[0m\u001b[0;34m\u001b[0m\u001b[0m\n\u001b[1;32m      5\u001b[0m \u001b[0mxrai_attributions\u001b[0m \u001b[0;34m=\u001b[0m \u001b[0mxrai_object\u001b[0m\u001b[0;34m.\u001b[0m\u001b[0mGetMask\u001b[0m\u001b[0;34m(\u001b[0m\u001b[0mim\u001b[0m\u001b[0;34m,\u001b[0m \u001b[0mfeed_dict\u001b[0m\u001b[0;34m=\u001b[0m\u001b[0;34m{\u001b[0m\u001b[0mneuron_selector\u001b[0m\u001b[0;34m:\u001b[0m \u001b[0mprediction_class\u001b[0m\u001b[0;34m}\u001b[0m\u001b[0;34m,\u001b[0m \u001b[0mbatch_size\u001b[0m\u001b[0;34m=\u001b[0m\u001b[0;36m20\u001b[0m\u001b[0;34m)\u001b[0m\u001b[0;34m\u001b[0m\u001b[0;34m\u001b[0m\u001b[0m\n",
      "\u001b[0;31mNameError\u001b[0m: name 'saliency' is not defined"
     ]
    }
   ],
   "source": [
    "# Construct the saliency object. This doesn't yet compute the saliency mask, it just sets up the necessary ops.\n",
    "xrai_object = saliency.XRAI(graph, sess, y, images)\n",
    "\n",
    "# Compute XRAI attributions with default parameters\n",
    "xrai_attributions = xrai_object.GetMask(im, feed_dict={neuron_selector: prediction_class}, batch_size=20)\n",
    "\n",
    "# Set up matplot lib figures.\n",
    "ROWS = 1\n",
    "COLS = 3\n",
    "UPSCALE_FACTOR = 20\n",
    "P.figure(figsize=(ROWS * UPSCALE_FACTOR, COLS * UPSCALE_FACTOR))\n",
    "\n",
    "# Show original image\n",
    "ShowImage(im, title='Original Image', ax=P.subplot(ROWS, COLS, 1))\n",
    "\n",
    "# Show XRAI heatmap attributions\n",
    "ShowHeatMap(xrai_attributions, title='XRAI Heatmap', ax=P.subplot(ROWS, COLS, 2))\n",
    "\n",
    "# Show most salient 30% of the image\n",
    "mask = xrai_attributions > np.percentile(xrai_attributions, 70)\n",
    "im_mask = np.array(im)\n",
    "im_mask[~mask] = 0\n",
    "ShowImage(im_mask, title='Top 30%', ax=P.subplot(ROWS, COLS, 3))"
   ]
  },
  {
   "cell_type": "code",
   "execution_count": 3,
   "metadata": {},
   "outputs": [
    {
     "ename": "NameError",
     "evalue": "name 'saliency' is not defined",
     "output_type": "error",
     "traceback": [
      "\u001b[0;31m---------------------------------------------------------------------------\u001b[0m",
      "\u001b[0;31mNameError\u001b[0m                                 Traceback (most recent call last)",
      "\u001b[0;32m<ipython-input-3-5621a9c8c2a4>\u001b[0m in \u001b[0;36m<module>\u001b[0;34m\u001b[0m\n\u001b[1;32m      1\u001b[0m \u001b[0;31m# Create XRAIParameters and set the algorithm to fast mode which will produce an approximate result.\u001b[0m\u001b[0;34m\u001b[0m\u001b[0;34m\u001b[0m\u001b[0;34m\u001b[0m\u001b[0m\n\u001b[0;32m----> 2\u001b[0;31m \u001b[0mxrai_params\u001b[0m \u001b[0;34m=\u001b[0m \u001b[0msaliency\u001b[0m\u001b[0;34m.\u001b[0m\u001b[0mXRAIParameters\u001b[0m\u001b[0;34m(\u001b[0m\u001b[0;34m)\u001b[0m\u001b[0;34m\u001b[0m\u001b[0;34m\u001b[0m\u001b[0m\n\u001b[0m\u001b[1;32m      3\u001b[0m \u001b[0mxrai_params\u001b[0m\u001b[0;34m.\u001b[0m\u001b[0malgorithm\u001b[0m \u001b[0;34m=\u001b[0m \u001b[0;34m'fast'\u001b[0m\u001b[0;34m\u001b[0m\u001b[0;34m\u001b[0m\u001b[0m\n\u001b[1;32m      4\u001b[0m \u001b[0;34m\u001b[0m\u001b[0m\n\u001b[1;32m      5\u001b[0m \u001b[0;31m# Compute XRAI attributions with fast algorithm\u001b[0m\u001b[0;34m\u001b[0m\u001b[0;34m\u001b[0m\u001b[0;34m\u001b[0m\u001b[0m\n",
      "\u001b[0;31mNameError\u001b[0m: name 'saliency' is not defined"
     ]
    }
   ],
   "source": [
    "# Create XRAIParameters and set the algorithm to fast mode which will produce an approximate result.\n",
    "xrai_params = saliency.XRAIParameters()\n",
    "xrai_params.algorithm = 'fast'\n",
    "\n",
    "# Compute XRAI attributions with fast algorithm\n",
    "xrai_attributions_fast = xrai_object.GetMask(im, feed_dict={neuron_selector: prediction_class}, extra_parameters=xrai_params, batch_size=20)\n",
    "\n",
    "# Set up matplot lib figures.\n",
    "ROWS = 1\n",
    "COLS = 3\n",
    "UPSCALE_FACTOR = 20\n",
    "P.figure(figsize=(ROWS * UPSCALE_FACTOR, COLS * UPSCALE_FACTOR))\n",
    "\n",
    "# Show original image\n",
    "ShowImage(im, title='Original Image', ax=P.subplot(ROWS, COLS, 1))\n",
    "\n",
    "# Show XRAI heatmap attributions\n",
    "ShowHeatMap(xrai_attributions_fast, title='XRAI Heatmap', ax=P.subplot(ROWS, COLS, 2))\n",
    "\n",
    "# Show most salient 30% of the image\n",
    "mask = xrai_attributions_fast > np.percentile(xrai_attributions_fast, 70)\n",
    "im_mask = np.array(im)\n",
    "im_mask[~mask] = 0\n",
    "ShowImage(im_mask, 'Top 30%', ax=P.subplot(ROWS, COLS, 3))"
   ]
  },
  {
   "cell_type": "code",
   "execution_count": 4,
   "metadata": {},
   "outputs": [
    {
     "ename": "NameError",
     "evalue": "name 'graph' is not defined",
     "output_type": "error",
     "traceback": [
      "\u001b[0;31m---------------------------------------------------------------------------\u001b[0m",
      "\u001b[0;31mNameError\u001b[0m                                 Traceback (most recent call last)",
      "\u001b[0;32m<ipython-input-4-90374c41df31>\u001b[0m in \u001b[0;36m<module>\u001b[0;34m\u001b[0m\n\u001b[1;32m      2\u001b[0m \u001b[0;34m\u001b[0m\u001b[0m\n\u001b[1;32m      3\u001b[0m \u001b[0;31m# GradCAM uses the final convolution layer, in this case \"Mixed_7c\"\u001b[0m\u001b[0;34m\u001b[0m\u001b[0;34m\u001b[0m\u001b[0;34m\u001b[0m\u001b[0m\n\u001b[0;32m----> 4\u001b[0;31m \u001b[0;32mwith\u001b[0m \u001b[0mgraph\u001b[0m\u001b[0;34m.\u001b[0m\u001b[0mas_default\u001b[0m\u001b[0;34m(\u001b[0m\u001b[0;34m)\u001b[0m\u001b[0;34m:\u001b[0m\u001b[0;34m\u001b[0m\u001b[0;34m\u001b[0m\u001b[0m\n\u001b[0m\u001b[1;32m      5\u001b[0m   \u001b[0mconv_tensor\u001b[0m \u001b[0;34m=\u001b[0m \u001b[0mgraph\u001b[0m\u001b[0;34m.\u001b[0m\u001b[0mget_tensor_by_name\u001b[0m\u001b[0;34m(\u001b[0m\u001b[0;34m'module/InceptionV3/InceptionV3/Mixed_7c/concat:0'\u001b[0m\u001b[0;34m)\u001b[0m\u001b[0;34m\u001b[0m\u001b[0;34m\u001b[0m\u001b[0m\n\u001b[1;32m      6\u001b[0m \u001b[0;34m\u001b[0m\u001b[0m\n",
      "\u001b[0;31mNameError\u001b[0m: name 'graph' is not defined"
     ]
    }
   ],
   "source": [
    "# Compare Grad-CAM and Smoothgrad with Grad-CAM. Note: This will take a long time to run.\n",
    "\n",
    "# GradCAM uses the final convolution layer, in this case \"Mixed_7c\"\n",
    "with graph.as_default():\n",
    "  conv_tensor = graph.get_tensor_by_name('module/InceptionV3/InceptionV3/Mixed_7c/concat:0')\n",
    "\n",
    "# Construct the saliency object. This doesn't yet compute the saliency mask, it just sets up the necessary ops.\n",
    "grad_cam = saliency.GradCam(graph, sess, y, images, conv_tensor)\n",
    "\n",
    "# Compute the Grad-CAM mask and the smoothed mask.\n",
    "grad_cam_mask_3d = grad_cam.GetMask(im, feed_dict = {neuron_selector: prediction_class})\n",
    "smoothgrad_grad_cam_mask_3d = grad_cam.GetSmoothedMask(im, feed_dict = {neuron_selector: prediction_class})\n",
    "\n",
    "# Call the visualization methods to convert the 3D tensors to 2D grayscale.\n",
    "grad_cam_mask_grayscale = saliency.VisualizeImageGrayscale(grad_cam_mask_3d)\n",
    "smoothgrad_grad_cam_mask_grayscale = saliency.VisualizeImageGrayscale(smoothgrad_grad_cam_mask_3d)\n",
    "\n",
    "# Set up matplot lib figures.\n",
    "ROWS = 1\n",
    "COLS = 2\n",
    "UPSCALE_FACTOR = 10\n",
    "P.figure(figsize=(ROWS * UPSCALE_FACTOR, COLS * UPSCALE_FACTOR))\n",
    "\n",
    "# Render the saliency masks.\n",
    "ShowGrayscaleImage(grad_cam_mask_grayscale, title='Grad-CAM', ax=P.subplot(ROWS, COLS, 1))\n",
    "ShowGrayscaleImage(smoothgrad_grad_cam_mask_grayscale, title='SmoothGrad Grad-CAM', ax=P.subplot(ROWS, COLS, 2))"
   ]
  },
  {
   "cell_type": "code",
   "execution_count": 5,
   "metadata": {},
   "outputs": [
    {
     "ename": "NameError",
     "evalue": "name 'saliency' is not defined",
     "output_type": "error",
     "traceback": [
      "\u001b[0;31m---------------------------------------------------------------------------\u001b[0m",
      "\u001b[0;31mNameError\u001b[0m                                 Traceback (most recent call last)",
      "\u001b[0;32m<ipython-input-5-5865dd0d77eb>\u001b[0m in \u001b[0;36m<module>\u001b[0;34m\u001b[0m\n\u001b[1;32m      1\u001b[0m \u001b[0;31m# Construct the saliency object. This doesn't yet compute the saliency mask, it just sets up the necessary ops.\u001b[0m\u001b[0;34m\u001b[0m\u001b[0;34m\u001b[0m\u001b[0;34m\u001b[0m\u001b[0m\n\u001b[0;32m----> 2\u001b[0;31m \u001b[0mintegrated_gradients\u001b[0m \u001b[0;34m=\u001b[0m \u001b[0msaliency\u001b[0m\u001b[0;34m.\u001b[0m\u001b[0mIntegratedGradients\u001b[0m\u001b[0;34m(\u001b[0m\u001b[0mgraph\u001b[0m\u001b[0;34m,\u001b[0m \u001b[0msess\u001b[0m\u001b[0;34m,\u001b[0m \u001b[0my\u001b[0m\u001b[0;34m,\u001b[0m \u001b[0mimages\u001b[0m\u001b[0;34m)\u001b[0m\u001b[0;34m\u001b[0m\u001b[0;34m\u001b[0m\u001b[0m\n\u001b[0m\u001b[1;32m      3\u001b[0m \u001b[0mguided_ig\u001b[0m \u001b[0;34m=\u001b[0m \u001b[0msaliency\u001b[0m\u001b[0;34m.\u001b[0m\u001b[0mGuidedIG\u001b[0m\u001b[0;34m(\u001b[0m\u001b[0mgraph\u001b[0m\u001b[0;34m,\u001b[0m \u001b[0msess\u001b[0m\u001b[0;34m,\u001b[0m \u001b[0my\u001b[0m\u001b[0;34m,\u001b[0m \u001b[0mimages\u001b[0m\u001b[0;34m)\u001b[0m\u001b[0;34m\u001b[0m\u001b[0;34m\u001b[0m\u001b[0m\n\u001b[1;32m      4\u001b[0m \u001b[0;34m\u001b[0m\u001b[0m\n\u001b[1;32m      5\u001b[0m \u001b[0;31m# Baseline is a black image for vanilla integrated gradients.\u001b[0m\u001b[0;34m\u001b[0m\u001b[0;34m\u001b[0m\u001b[0;34m\u001b[0m\u001b[0m\n",
      "\u001b[0;31mNameError\u001b[0m: name 'saliency' is not defined"
     ]
    }
   ],
   "source": [
    "# Construct the saliency object. This doesn't yet compute the saliency mask, it just sets up the necessary ops.\n",
    "integrated_gradients = saliency.IntegratedGradients(graph, sess, y, images)\n",
    "guided_ig = saliency.GuidedIG(graph, sess, y, images)\n",
    "\n",
    "# Baseline is a black image for vanilla integrated gradients.\n",
    "baseline = np.zeros(im.shape)\n",
    "\n",
    "# Compute the vanilla mask and the Guided IG mask.\n",
    "vanilla_integrated_gradients_mask_3d = integrated_gradients.GetMask(\n",
    "  im, feed_dict = {neuron_selector: prediction_class}, x_steps=25, x_baseline=baseline, batch_size=20)\n",
    "guided_ig_mask_3d = guided_ig.GetMask(\n",
    "  im, feed_dict = {neuron_selector: prediction_class}, x_steps=25, x_baseline=baseline, max_dist=0.2, fraction=0.5)\n",
    "\n",
    "# Call the visualization methods to convert the 3D tensors to 2D grayscale.\n",
    "vanilla_mask_grayscale = saliency.VisualizeImageGrayscale(vanilla_integrated_gradients_mask_3d)\n",
    "guided_ig_mask_grayscale = saliency.VisualizeImageGrayscale(guided_ig_mask_3d)\n",
    "\n",
    "# Set up matplot lib figures.\n",
    "ROWS = 1\n",
    "COLS = 3\n",
    "UPSCALE_FACTOR = 20\n",
    "P.figure(figsize=(ROWS * UPSCALE_FACTOR, COLS * UPSCALE_FACTOR))\n",
    "\n",
    "# Render the saliency masks.\n",
    "ShowImage(im, title='Original Image', ax=P.subplot(ROWS, COLS, 1))\n",
    "ShowGrayscaleImage(vanilla_mask_grayscale, title='Vanilla Integrated Gradients', ax=P.subplot(ROWS, COLS, 2))\n",
    "ShowGrayscaleImage(guided_ig_mask_grayscale, title='Guided Integrated Gradients', ax=P.subplot(ROWS, COLS, 3))"
   ]
  },
  {
   "cell_type": "code",
   "execution_count": 6,
   "metadata": {},
   "outputs": [
    {
     "ename": "NameError",
     "evalue": "name 'saliency' is not defined",
     "output_type": "error",
     "traceback": [
      "\u001b[0;31m---------------------------------------------------------------------------\u001b[0m",
      "\u001b[0;31mNameError\u001b[0m                                 Traceback (most recent call last)",
      "\u001b[0;32m<ipython-input-6-6e567be82140>\u001b[0m in \u001b[0;36m<module>\u001b[0;34m\u001b[0m\n\u001b[1;32m      1\u001b[0m \u001b[0;31m# Construct the saliency object. This doesn't yet compute the saliency mask, it just sets up the necessary ops.\u001b[0m\u001b[0;34m\u001b[0m\u001b[0;34m\u001b[0m\u001b[0;34m\u001b[0m\u001b[0m\n\u001b[0;32m----> 2\u001b[0;31m \u001b[0mintegrated_gradients\u001b[0m \u001b[0;34m=\u001b[0m \u001b[0msaliency\u001b[0m\u001b[0;34m.\u001b[0m\u001b[0mIntegratedGradients\u001b[0m\u001b[0;34m(\u001b[0m\u001b[0mgraph\u001b[0m\u001b[0;34m,\u001b[0m \u001b[0msess\u001b[0m\u001b[0;34m,\u001b[0m \u001b[0my\u001b[0m\u001b[0;34m,\u001b[0m \u001b[0mimages\u001b[0m\u001b[0;34m)\u001b[0m\u001b[0;34m\u001b[0m\u001b[0;34m\u001b[0m\u001b[0m\n\u001b[0m\u001b[1;32m      3\u001b[0m \u001b[0mblur_ig\u001b[0m \u001b[0;34m=\u001b[0m \u001b[0msaliency\u001b[0m\u001b[0;34m.\u001b[0m\u001b[0mBlurIG\u001b[0m\u001b[0;34m(\u001b[0m\u001b[0mgraph\u001b[0m\u001b[0;34m,\u001b[0m \u001b[0msess\u001b[0m\u001b[0;34m,\u001b[0m \u001b[0my\u001b[0m\u001b[0;34m,\u001b[0m \u001b[0mimages\u001b[0m\u001b[0;34m)\u001b[0m\u001b[0;34m\u001b[0m\u001b[0;34m\u001b[0m\u001b[0m\n\u001b[1;32m      4\u001b[0m \u001b[0;34m\u001b[0m\u001b[0m\n\u001b[1;32m      5\u001b[0m \u001b[0;31m# Baseline is a black image for vanilla integrated gradients.\u001b[0m\u001b[0;34m\u001b[0m\u001b[0;34m\u001b[0m\u001b[0;34m\u001b[0m\u001b[0m\n",
      "\u001b[0;31mNameError\u001b[0m: name 'saliency' is not defined"
     ]
    }
   ],
   "source": [
    "# Construct the saliency object. This doesn't yet compute the saliency mask, it just sets up the necessary ops.\n",
    "integrated_gradients = saliency.IntegratedGradients(graph, sess, y, images)\n",
    "blur_ig = saliency.BlurIG(graph, sess, y, images)\n",
    "\n",
    "# Baseline is a black image for vanilla integrated gradients.\n",
    "baseline = np.zeros(im.shape)\n",
    "\n",
    "# Compute the vanilla mask and the Blur IG mask.\n",
    "vanilla_integrated_gradients_mask_3d = integrated_gradients.GetMask(\n",
    "  im, feed_dict = {neuron_selector: prediction_class}, x_steps=25, x_baseline=baseline, batch_size=20)\n",
    "blur_ig_mask_3d = blur_ig.GetMask(\n",
    "  im, feed_dict = {neuron_selector: prediction_class}, batch_size=20)\n",
    "\n",
    "# Call the visualization methods to convert the 3D tensors to 2D grayscale.\n",
    "vanilla_mask_grayscale = saliency.VisualizeImageGrayscale(vanilla_integrated_gradients_mask_3d)\n",
    "blur_ig_mask_grayscale = saliency.VisualizeImageGrayscale(blur_ig_mask_3d)\n",
    "\n",
    "# Set up matplot lib figures.\n",
    "ROWS = 1\n",
    "COLS = 2\n",
    "UPSCALE_FACTOR = 10\n",
    "P.figure(figsize=(ROWS * UPSCALE_FACTOR, COLS * UPSCALE_FACTOR))\n",
    "\n",
    "# Render the saliency masks.\n",
    "ShowGrayscaleImage(vanilla_mask_grayscale, title='Vanilla Integrated Gradients', ax=P.subplot(ROWS, COLS, 1))\n",
    "ShowGrayscaleImage(blur_ig_mask_grayscale, title='Blur Integrated Gradients', ax=P.subplot(ROWS, COLS, 2))"
   ]
  },
  {
   "cell_type": "code",
   "execution_count": 7,
   "metadata": {},
   "outputs": [
    {
     "ename": "NameError",
     "evalue": "name 'saliency' is not defined",
     "output_type": "error",
     "traceback": [
      "\u001b[0;31m---------------------------------------------------------------------------\u001b[0m",
      "\u001b[0;31mNameError\u001b[0m                                 Traceback (most recent call last)",
      "\u001b[0;32m<ipython-input-7-466eac735d49>\u001b[0m in \u001b[0;36m<module>\u001b[0;34m\u001b[0m\n\u001b[1;32m      1\u001b[0m \u001b[0;31m# Compare BlurIG and Smoothgrad with BlurIG. Note: This will take a long time to run.\u001b[0m\u001b[0;34m\u001b[0m\u001b[0;34m\u001b[0m\u001b[0;34m\u001b[0m\u001b[0m\n\u001b[1;32m      2\u001b[0m \u001b[0;31m# Construct the saliency object. This doesn't yet compute the saliency mask, it just sets up the necessary ops.\u001b[0m\u001b[0;34m\u001b[0m\u001b[0;34m\u001b[0m\u001b[0;34m\u001b[0m\u001b[0m\n\u001b[0;32m----> 3\u001b[0;31m \u001b[0mblur_ig\u001b[0m \u001b[0;34m=\u001b[0m \u001b[0msaliency\u001b[0m\u001b[0;34m.\u001b[0m\u001b[0mBlurIG\u001b[0m\u001b[0;34m(\u001b[0m\u001b[0mgraph\u001b[0m\u001b[0;34m,\u001b[0m \u001b[0msess\u001b[0m\u001b[0;34m,\u001b[0m \u001b[0my\u001b[0m\u001b[0;34m,\u001b[0m \u001b[0mimages\u001b[0m\u001b[0;34m)\u001b[0m\u001b[0;34m\u001b[0m\u001b[0;34m\u001b[0m\u001b[0m\n\u001b[0m\u001b[1;32m      4\u001b[0m \u001b[0;34m\u001b[0m\u001b[0m\n\u001b[1;32m      5\u001b[0m \u001b[0;31m# Compute the Blur IG mask and Smoothgrad+BlurIG mask.\u001b[0m\u001b[0;34m\u001b[0m\u001b[0;34m\u001b[0m\u001b[0;34m\u001b[0m\u001b[0m\n",
      "\u001b[0;31mNameError\u001b[0m: name 'saliency' is not defined"
     ]
    }
   ],
   "source": [
    "# Compare BlurIG and Smoothgrad with BlurIG. Note: This will take a long time to run.\n",
    "# Construct the saliency object. This doesn't yet compute the saliency mask, it just sets up the necessary ops.\n",
    "blur_ig = saliency.BlurIG(graph, sess, y, images)\n",
    "\n",
    "# Compute the Blur IG mask and Smoothgrad+BlurIG mask.\n",
    "blur_ig_mask_3d = blur_ig.GetMask(im, feed_dict = {neuron_selector: prediction_class}, batch_size=20)\n",
    "# Smoothed mask for BlurIG will take a while since we are doing nsamples * nsamples computations.\n",
    "smooth_blur_ig_mask_3d = blur_ig.GetSmoothedMask(im, feed_dict = {neuron_selector: prediction_class}, batch_size=20)\n",
    "\n",
    "# Call the visualization methods to convert the 3D tensors to 2D grayscale.\n",
    "blur_ig_mask_grayscale = saliency.VisualizeImageGrayscale(blur_ig_mask_3d)\n",
    "smooth_blur_ig_mask_grayscale = saliency.VisualizeImageGrayscale(smooth_blur_ig_mask_3d)\n",
    "\n",
    "# Set up matplot lib figures.\n",
    "ROWS = 1\n",
    "COLS = 2\n",
    "UPSCALE_FACTOR = 10\n",
    "P.figure(figsize=(ROWS * UPSCALE_FACTOR, COLS * UPSCALE_FACTOR))\n",
    "\n",
    "# Render the saliency masks.\n",
    "ShowGrayscaleImage(blur_ig_mask_grayscale, title='Blur Integrated Gradients', ax=P.subplot(ROWS, COLS, 1))\n",
    "ShowGrayscaleImage(smooth_blur_ig_mask_grayscale, title='Smoothgrad Blur IG', ax=P.subplot(ROWS, COLS, 2))"
   ]
  },
  {
   "cell_type": "code",
   "execution_count": null,
   "metadata": {},
   "outputs": [],
   "source": []
  }
 ],
 "metadata": {
  "kernelspec": {
   "display_name": "Python 3",
   "language": "python",
   "name": "python3"
  },
  "language_info": {
   "codemirror_mode": {
    "name": "ipython",
    "version": 3
   },
   "file_extension": ".py",
   "mimetype": "text/x-python",
   "name": "python",
   "nbconvert_exporter": "python",
   "pygments_lexer": "ipython3",
   "version": "3.8.5"
  }
 },
 "nbformat": 4,
 "nbformat_minor": 4
}
